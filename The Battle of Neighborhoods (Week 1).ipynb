{
    "cells": [
        {
            "cell_type": "markdown",
            "metadata": {
                "collapsed": true
            },
            "source": "\nISSUE DESCRIPTION\n\nLondon is known for having some world renouned institutions of higher education.  According to the data published by the Higher Education Statistical Agency (HESA), in the academic year 2016-2017 London admitted 112,200 international students to its universities.\n\nOne of the largest issues for new students is finding accomedations to live during the school term. Student halls are the most reliable means of housing for students, but it is not easy to secure housing in high demand areas. In this project, I intend analyze different neighborhoods of London and find a new designated location to build new student halls for international students in London. This research is expected to benefit real-estate investors looking for a profitable location or international students looking for a place to live in London.\n\nThis study will focus only on the safety and the general atmosphere of the neighborhood. Distance to universities are also an important factor in choosing a student hall, but as student halls accept students from different universities, it will be disregarded in this project.\n"
        },
        {
            "cell_type": "code",
            "execution_count": null,
            "metadata": {},
            "outputs": [],
            "source": ""
        }
    ],
    "metadata": {
        "kernelspec": {
            "display_name": "Python 3.6",
            "language": "python",
            "name": "python3"
        },
        "language_info": {
            "codemirror_mode": {
                "name": "ipython",
                "version": 3
            },
            "file_extension": ".py",
            "mimetype": "text/x-python",
            "name": "python",
            "nbconvert_exporter": "python",
            "pygments_lexer": "ipython3",
            "version": "3.6.9"
        }
    },
    "nbformat": 4,
    "nbformat_minor": 1
}